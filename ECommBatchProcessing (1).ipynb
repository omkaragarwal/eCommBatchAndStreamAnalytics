{
  "nbformat": 4,
  "nbformat_minor": 2,
  "metadata": {
    "language_info": {
      "name": "python"
    },
    "kernelspec": {
      "name": "synapse_pyspark",
      "display_name": "python"
    },
    "description": null,
    "save_output": true,
    "synapse_widget": {
      "version": "0.1",
      "state": {}
    }
  },
  "cells": [
    {
      "cell_type": "code",
      "execution_count": 1,
      "outputs": [
        {
          "output_type": "display_data",
          "data": {
            "application/vnd.livy.statement-meta+json": {
              "spark_pool": "ECommSparkPool",
              "statement_id": 2,
              "statement_ids": [
                2
              ],
              "state": "finished",
              "livy_statement_state": "available",
              "spark_jobs": null,
              "session_id": "8",
              "normalized_state": "finished",
              "queued_time": "2025-04-03T18:57:59.6700195Z",
              "session_start_time": "2025-04-03T18:57:59.671674Z",
              "execution_start_time": "2025-04-03T19:01:45.1887937Z",
              "execution_finish_time": "2025-04-03T19:02:00.3025624Z",
              "parent_msg_id": "bd9c1cf6-c515-45fe-b05d-188de2e0c31d"
            },
            "text/plain": "StatementMeta(ECommSparkPool, 8, 2, Finished, Available, Finished)"
          },
          "metadata": {}
        }
      ],
      "metadata": {},
      "source": [
        "adls_account_name = \"ecommerceanalytics23\"\n",
        "adls_container_name = \"ecommerce-logs\"\n",
        "file_path = \"enrichedData\"\n",
        "\n",
        "# Construct the full ADLS path\n",
        "adls_path = f\"abfss://{adls_container_name}@{adls_account_name}.dfs.core.windows.net/{file_path}\"\n",
        "\n",
        "try:\n",
        "    df = spark.read.parquet(adls_path)\n",
        "\n",
        "except Exception as e:\n",
        "    print(f\"Error reading file: {e}\")\n",
        "    print(\"Please double-check your ADLS account name, container name, and file path.\")"
      ]
    },
    {
      "cell_type": "code",
      "execution_count": 6,
      "outputs": [
        {
          "output_type": "display_data",
          "data": {
            "application/vnd.livy.statement-meta+json": {
              "spark_pool": "ECommSparkPool",
              "statement_id": 7,
              "statement_ids": [
                7
              ],
              "state": "finished",
              "livy_statement_state": "available",
              "spark_jobs": null,
              "session_id": "7",
              "normalized_state": "finished",
              "queued_time": "2025-03-30T06:42:04.0076779Z",
              "session_start_time": null,
              "execution_start_time": "2025-03-30T06:42:08.1175641Z",
              "execution_finish_time": "2025-03-30T06:42:08.3891615Z",
              "parent_msg_id": "e3715724-936a-4779-aa66-09d2d4e36140"
            },
            "text/plain": "StatementMeta(ECommSparkPool, 7, 7, Finished, Available, Finished)"
          },
          "metadata": {}
        },
        {
          "output_type": "stream",
          "name": "stdout",
          "text": [
            "root\n |-- event_time: string (nullable = true)\n |-- event_type: string (nullable = true)\n |-- product_id: integer (nullable = true)\n |-- category_id: double (nullable = true)\n |-- category_code: string (nullable = true)\n |-- brand: string (nullable = true)\n |-- price: float (nullable = true)\n |-- user_id: integer (nullable = true)\n |-- user_session: string (nullable = true)\n |-- Hour: integer (nullable = true)\n |-- weekNumber: integer (nullable = true)\n\n"
          ]
        }
      ],
      "metadata": {},
      "source": [
        "df.printSchema()"
      ]
    },
    {
      "cell_type": "code",
      "execution_count": 7,
      "outputs": [
        {
          "output_type": "display_data",
          "data": {
            "application/vnd.livy.statement-meta+json": {
              "spark_pool": "ECommSparkPool",
              "statement_id": 8,
              "statement_ids": [
                8
              ],
              "state": "finished",
              "livy_statement_state": "available",
              "spark_jobs": null,
              "session_id": "7",
              "normalized_state": "finished",
              "queued_time": "2025-03-30T06:42:04.1561281Z",
              "session_start_time": null,
              "execution_start_time": "2025-03-30T06:42:08.4010547Z",
              "execution_finish_time": "2025-03-30T06:42:12.666859Z",
              "parent_msg_id": "0a702130-5fcb-4b45-bc7d-e1e0316f6fab"
            },
            "text/plain": "StatementMeta(ECommSparkPool, 7, 8, Finished, Available, Finished)"
          },
          "metadata": {}
        },
        {
          "output_type": "execute_result",
          "data": {
            "text/plain": "42089570"
          },
          "execution_count": 17,
          "metadata": {}
        }
      ],
      "metadata": {},
      "source": [
        "df.count()"
      ]
    },
    {
      "cell_type": "code",
      "execution_count": 2,
      "outputs": [
        {
          "output_type": "display_data",
          "data": {
            "application/vnd.livy.statement-meta+json": {
              "spark_pool": "ECommSparkPool",
              "statement_id": 3,
              "statement_ids": [
                3
              ],
              "state": "finished",
              "livy_statement_state": "available",
              "spark_jobs": null,
              "session_id": "8",
              "normalized_state": "finished",
              "queued_time": "2025-04-03T19:02:18.0882926Z",
              "session_start_time": null,
              "execution_start_time": "2025-04-03T19:02:18.0903648Z",
              "execution_finish_time": "2025-04-03T19:02:39.36365Z",
              "parent_msg_id": "a3818f48-4574-4fa7-af40-fe3539573cd9"
            },
            "text/plain": "StatementMeta(ECommSparkPool, 8, 3, Finished, Available, Finished)"
          },
          "metadata": {}
        },
        {
          "output_type": "execute_result",
          "data": {
            "text/plain": "42089564"
          },
          "execution_count": 7,
          "metadata": {}
        }
      ],
      "metadata": {},
      "source": [
        "df_no_nulls = df.na.drop()\n",
        "df_no_nulls.count() # Display the DataFrame after dropping nulls"
      ]
    },
    {
      "cell_type": "code",
      "execution_count": 3,
      "outputs": [
        {
          "output_type": "display_data",
          "data": {
            "application/vnd.livy.statement-meta+json": {
              "spark_pool": "ECommSparkPool",
              "statement_id": 4,
              "statement_ids": [
                4
              ],
              "state": "finished",
              "livy_statement_state": "available",
              "spark_jobs": null,
              "session_id": "8",
              "normalized_state": "finished",
              "queued_time": "2025-04-03T19:02:48.8491697Z",
              "session_start_time": null,
              "execution_start_time": "2025-04-03T19:02:48.8511784Z",
              "execution_finish_time": "2025-04-03T19:02:49.1312365Z",
              "parent_msg_id": "c8e551a9-6661-41e2-8bd4-8290005d5453"
            },
            "text/plain": "StatementMeta(ECommSparkPool, 8, 4, Finished, Available, Finished)"
          },
          "metadata": {}
        }
      ],
      "metadata": {},
      "source": [
        "from pyspark.sql.functions import col, hour, weekofyear\n",
        "\n",
        "df_no_nulls = df_no_nulls.withColumn(\"hour\",hour(col(\"event_time\")))  \\\n",
        "                            .withColumn(\"weekNumber\",weekofyear(col(\"event_time\")))\n",
        ""
      ]
    },
    {
      "cell_type": "markdown",
      "metadata": {
        "nteract": {
          "transient": {
            "deleting": false
          }
        }
      },
      "source": [
        "### Unique visitors per day"
      ]
    },
    {
      "cell_type": "code",
      "execution_count": 4,
      "outputs": [
        {
          "output_type": "display_data",
          "data": {
            "application/vnd.livy.statement-meta+json": {
              "spark_pool": "ECommSparkPool",
              "statement_id": 5,
              "statement_ids": [
                5
              ],
              "state": "finished",
              "livy_statement_state": "available",
              "spark_jobs": null,
              "session_id": "8",
              "normalized_state": "finished",
              "queued_time": "2025-04-03T19:02:54.6176338Z",
              "session_start_time": null,
              "execution_start_time": "2025-04-03T19:02:54.6195144Z",
              "execution_finish_time": "2025-04-03T19:02:54.8948747Z",
              "parent_msg_id": "a3c629bb-9b88-45be-8a52-4ac3054d48f6"
            },
            "text/plain": "StatementMeta(ECommSparkPool, 8, 5, Finished, Available, Finished)"
          },
          "metadata": {}
        }
      ],
      "metadata": {},
      "source": [
        "from pyspark.sql.functions import to_date, col, countDistinct \n",
        "\n",
        "uniqueVisitorPerDay = df_no_nulls.withColumn(\"event_date\",to_date(col(\"event_time\"))) \\\n",
        "                                    .groupBy(\"event_date\") \\\n",
        "                                    .agg(countDistinct(\"user_id\").alias(\"unique_visitor\")) \\\n",
        "                                    .orderBy(\"event_date\")"
      ]
    },
    {
      "cell_type": "code",
      "execution_count": 5,
      "outputs": [
        {
          "output_type": "display_data",
          "data": {
            "application/vnd.livy.statement-meta+json": {
              "spark_pool": "ECommSparkPool",
              "statement_id": 6,
              "statement_ids": [
                6
              ],
              "state": "finished",
              "livy_statement_state": "available",
              "spark_jobs": null,
              "session_id": "8",
              "normalized_state": "finished",
              "queued_time": "2025-04-03T19:03:00.8986323Z",
              "session_start_time": null,
              "execution_start_time": "2025-04-03T19:03:00.9007509Z",
              "execution_finish_time": "2025-04-03T19:03:20.1005905Z",
              "parent_msg_id": "364d2b92-4430-4b5f-b693-8ab03a80efaf"
            },
            "text/plain": "StatementMeta(ECommSparkPool, 8, 6, Finished, Available, Finished)"
          },
          "metadata": {}
        }
      ],
      "metadata": {},
      "source": [
        "output_path = f\"abfss://{adls_container_name}@{adls_account_name}.dfs.core.windows.net/BatchProcessingResult/uniqueVisitorPerDay/\"\n",
        "try:\n",
        "    uniqueVisitorPerDay.write.mode(\"overwrite\").parquet(output_path)\n",
        "except Exception as e:\n",
        "    print(e)"
      ]
    },
    {
      "cell_type": "code",
      "execution_count": 11,
      "outputs": [
        {
          "output_type": "display_data",
          "data": {
            "application/vnd.livy.statement-meta+json": {
              "spark_pool": "ECommSparkPool",
              "statement_id": 12,
              "statement_ids": [
                12
              ],
              "state": "finished",
              "livy_statement_state": "available",
              "spark_jobs": null,
              "session_id": "7",
              "normalized_state": "finished",
              "queued_time": "2025-03-30T06:42:04.4423007Z",
              "session_start_time": null,
              "execution_start_time": "2025-03-30T06:42:39.1062094Z",
              "execution_finish_time": "2025-03-30T06:42:50.4123612Z",
              "parent_msg_id": "fcb078d0-d138-4bad-b7a4-a0088d9e81fc"
            },
            "text/plain": "StatementMeta(ECommSparkPool, 7, 12, Finished, Available, Finished)"
          },
          "metadata": {}
        },
        {
          "output_type": "stream",
          "name": "stdout",
          "text": [
            "+----------+---------------+\n|event_date|unique_visitors|\n+----------+---------------+\n|2019-11-01|         160828|\n|2019-11-02|         167895|\n|2019-11-03|         174567|\n|2019-11-04|         197915|\n|2019-11-05|         183132|\n|2019-11-06|         179224|\n|2019-11-07|         194694|\n|2019-11-08|         205990|\n|2019-11-09|         193528|\n|2019-11-10|         200168|\n|2019-11-11|         210147|\n|2019-11-12|         205921|\n|2019-11-13|         207896|\n|2019-11-14|         236287|\n|2019-11-15|         315108|\n|2019-11-16|         393822|\n|2019-11-17|         388098|\n|2019-11-18|         226772|\n|2019-11-19|         196928|\n|2019-11-20|         194896|\n+----------+---------------+\nonly showing top 20 rows\n\n"
          ]
        }
      ],
      "metadata": {},
      "source": [
        "df_no_nulls.createOrReplaceTempView(\"CleanData\")\n",
        "spark.sql(\"\"\"\n",
        "    SELECT\n",
        "        CAST(event_time AS DATE) AS event_date,\n",
        "        COUNT(DISTINCT user_id) AS unique_visitors\n",
        "    FROM\n",
        "        CleanData\n",
        "    GROUP BY\n",
        "        CAST(event_time AS DATE)\n",
        "    ORDER BY\n",
        "        event_date\n",
        "\"\"\").show()"
      ]
    },
    {
      "cell_type": "markdown",
      "metadata": {
        "nteract": {
          "transient": {
            "deleting": false
          }
        }
      },
      "source": [
        "### During a certain time, the users add products to their carts but don’t buy them"
      ]
    },
    {
      "cell_type": "code",
      "execution_count": 12,
      "outputs": [
        {
          "output_type": "display_data",
          "data": {
            "application/vnd.livy.statement-meta+json": {
              "spark_pool": "ECommSparkPool",
              "statement_id": 13,
              "statement_ids": [
                13
              ],
              "state": "finished",
              "livy_statement_state": "available",
              "spark_jobs": null,
              "session_id": "7",
              "normalized_state": "finished",
              "queued_time": "2025-03-30T06:42:04.512091Z",
              "session_start_time": null,
              "execution_start_time": "2025-03-30T06:42:50.4265069Z",
              "execution_finish_time": "2025-03-30T06:42:59.4123554Z",
              "parent_msg_id": "a6b4e179-bd7d-4e3a-a541-5ea8aa2c9256"
            },
            "text/plain": "StatementMeta(ECommSparkPool, 7, 13, Finished, Available, Finished)"
          },
          "metadata": {}
        },
        {
          "output_type": "stream",
          "name": "stdout",
          "text": [
            "+----------+\n|event_type|\n+----------+\n|  purchase|\n|      view|\n|      cart|\n+----------+\n\n"
          ]
        }
      ],
      "metadata": {},
      "source": [
        "spark.sql(\"\"\"\n",
        "    SELECT\n",
        "        DISTINCT(event_type)\n",
        "    FROM\n",
        "        CleanData\n",
        "\"\"\").show()"
      ]
    },
    {
      "cell_type": "code",
      "execution_count": 6,
      "outputs": [
        {
          "output_type": "display_data",
          "data": {
            "application/vnd.livy.statement-meta+json": {
              "spark_pool": "ECommSparkPool",
              "statement_id": 7,
              "statement_ids": [
                7
              ],
              "state": "finished",
              "livy_statement_state": "available",
              "spark_jobs": null,
              "session_id": "8",
              "normalized_state": "finished",
              "queued_time": "2025-04-03T19:05:09.1100145Z",
              "session_start_time": null,
              "execution_start_time": "2025-04-03T19:05:09.1120363Z",
              "execution_finish_time": "2025-04-03T19:05:09.4322649Z",
              "parent_msg_id": "6cb831f9-e2e5-4d07-87ab-536a01a28224"
            },
            "text/plain": "StatementMeta(ECommSparkPool, 8, 7, Finished, Available, Finished)"
          },
          "metadata": {}
        }
      ],
      "metadata": {},
      "source": [
        "df_cart_event = df_no_nulls.filter(col(\"event_type\") == \"cart\")\n",
        "df_purchase_event = df_no_nulls.filter(col(\"event_type\") == \"purchase\")\n",
        "\n",
        "abandoned_carts = df_cart_event.alias(\"cart\").join(df_purchase_event.alias(\"purchase\"),\n",
        "                    (col(\"cart.user_id\") == col(\"purchase.user_id\")) &\n",
        "                    (col(\"cart.product_id\") == col(\"purchase.product_id\")) &\n",
        "                    (col(\"cart.user_session\") == col(\"purchase.user_session\")),\"left_anti\")  \\\n",
        "                    .select(\n",
        "                        col(\"cart.user_id\").alias(\"user_id\"),\n",
        "                        col(\"cart.product_id\").alias(\"product_id\"),\n",
        "                        col(\"cart.category_id\").alias(\"category_id\"),\n",
        "                        col(\"cart.brand\").alias(\"brand\"),\n",
        "                        col(\"cart.event_time\").alias(\"event_time\")\n",
        "                    ).distinct()\n",
        "\n",
        "# abandoned_carts.show()"
      ]
    },
    {
      "cell_type": "code",
      "execution_count": 7,
      "outputs": [
        {
          "output_type": "display_data",
          "data": {
            "application/vnd.livy.statement-meta+json": {
              "spark_pool": "ECommSparkPool",
              "statement_id": 8,
              "statement_ids": [
                8
              ],
              "state": "finished",
              "livy_statement_state": "available",
              "spark_jobs": null,
              "session_id": "8",
              "normalized_state": "finished",
              "queued_time": "2025-04-03T19:05:29.7073863Z",
              "session_start_time": null,
              "execution_start_time": "2025-04-03T19:05:29.709441Z",
              "execution_finish_time": "2025-04-03T19:05:46.9850174Z",
              "parent_msg_id": "58fb520e-4ed1-4329-ba06-539fa4d91b14"
            },
            "text/plain": "StatementMeta(ECommSparkPool, 8, 8, Finished, Available, Finished)"
          },
          "metadata": {}
        }
      ],
      "metadata": {},
      "source": [
        "output_path = f\"abfss://{adls_container_name}@{adls_account_name}.dfs.core.windows.net/BatchProcessingResult/abandoned_carts/\"\n",
        "try:\n",
        "    abandoned_carts.write.mode(\"overwrite\").parquet(output_path)\n",
        "except Exception as e:\n",
        "    print(e)"
      ]
    },
    {
      "cell_type": "markdown",
      "metadata": {
        "nteract": {
          "transient": {
            "deleting": false
          }
        }
      },
      "source": [
        "### Top categories per hour or weekday (i.e. to promote discounts based on trends)"
      ]
    },
    {
      "cell_type": "code",
      "execution_count": 10,
      "outputs": [
        {
          "output_type": "display_data",
          "data": {
            "application/vnd.livy.statement-meta+json": {
              "spark_pool": "ECommSparkPool",
              "statement_id": 11,
              "statement_ids": [
                11
              ],
              "state": "finished",
              "livy_statement_state": "available",
              "spark_jobs": null,
              "session_id": "8",
              "normalized_state": "finished",
              "queued_time": "2025-04-03T19:09:35.5742823Z",
              "session_start_time": null,
              "execution_start_time": "2025-04-03T19:09:35.5762382Z",
              "execution_finish_time": "2025-04-03T19:09:35.9050761Z",
              "parent_msg_id": "86f82be0-0f93-417d-99bf-467bfcc2fc54"
            },
            "text/plain": "StatementMeta(ECommSparkPool, 8, 11, Finished, Available, Finished)"
          },
          "metadata": {}
        }
      ],
      "metadata": {},
      "source": [
        "from pyspark.sql.functions import col, hour, count, desc\n",
        "\n",
        "top_categories_hourly = df_purchase_event.groupBy(\"hour\", \"category_id\") \\\n",
        "                                    .agg(count(\"*\").alias(\"purchase_count\")) \\\n",
        "                                    .orderBy(\"hour\", desc(\"purchase_count\"))\n",
        "# top_categories_hourly.show()"
      ]
    },
    {
      "cell_type": "code",
      "execution_count": 11,
      "outputs": [
        {
          "output_type": "display_data",
          "data": {
            "application/vnd.livy.statement-meta+json": {
              "spark_pool": "ECommSparkPool",
              "statement_id": 12,
              "statement_ids": [
                12
              ],
              "state": "finished",
              "livy_statement_state": "available",
              "spark_jobs": null,
              "session_id": "8",
              "normalized_state": "finished",
              "queued_time": "2025-04-03T19:09:39.9496379Z",
              "session_start_time": null,
              "execution_start_time": "2025-04-03T19:09:39.951632Z",
              "execution_finish_time": "2025-04-03T19:09:47.3103973Z",
              "parent_msg_id": "a39f528c-b886-40ad-9137-e96dd8562cfc"
            },
            "text/plain": "StatementMeta(ECommSparkPool, 8, 12, Finished, Available, Finished)"
          },
          "metadata": {}
        }
      ],
      "metadata": {},
      "source": [
        "from pyspark.sql import Window\n",
        "from pyspark.sql.functions import rank, col, hour, count, desc\n",
        "\n",
        "window_spec = Window.partitionBy(\"hour\").orderBy(desc(\"purchase_count\"))\n",
        "\n",
        "top_n_categories_hourly = top_categories_hourly.withColumn(\"rank\", rank().over(window_spec)) \\\n",
        "    .filter(col(\"rank\") <= 5)  \n",
        "# top_n_categories_hourly.show()\n",
        "\n",
        "output_path = f\"abfss://{adls_container_name}@{adls_account_name}.dfs.core.windows.net/BatchProcessingResult/top_n_categories_hourly/\"\n",
        "try:\n",
        "    top_n_categories_hourly.write.mode(\"overwrite\").parquet(output_path)\n",
        "except Exception as e:\n",
        "    print(e)"
      ]
    },
    {
      "cell_type": "code",
      "execution_count": 12,
      "outputs": [
        {
          "output_type": "display_data",
          "data": {
            "application/vnd.livy.statement-meta+json": {
              "spark_pool": "ECommSparkPool",
              "statement_id": 13,
              "statement_ids": [
                13
              ],
              "state": "finished",
              "livy_statement_state": "available",
              "spark_jobs": null,
              "session_id": "8",
              "normalized_state": "finished",
              "queued_time": "2025-04-03T19:14:31.4220919Z",
              "session_start_time": null,
              "execution_start_time": "2025-04-03T19:14:31.4241738Z",
              "execution_finish_time": "2025-04-03T19:14:38.6787642Z",
              "parent_msg_id": "f86508ed-5b68-4b05-bd81-c0722f46ea71"
            },
            "text/plain": "StatementMeta(ECommSparkPool, 8, 13, Finished, Available, Finished)"
          },
          "metadata": {}
        }
      ],
      "metadata": {},
      "source": [
        "from pyspark.sql.functions import col, dayofweek, count, desc, when\n",
        "\n",
        "df_withWeekDays = df_purchase_event.withColumn(\"weekDay\", when(dayofweek(col(\"event_time\")) == 1, \"Sunday\")\n",
        "                                                        .when(dayofweek(col(\"event_time\")) == 2, \"Monday\")\n",
        "                                                        .when(dayofweek(col(\"event_time\")) == 3,\"Tuesday\")\n",
        "                                                        .when(dayofweek(col(\"event_time\")) == 4,\"Wednesday\")\n",
        "                                                        .when(dayofweek(col(\"event_time\")) == 5,\"Thursday\")\n",
        "                                                        .when(dayofweek(col(\"event_time\")) == 6, \"Friday\")\n",
        "                                                        .otherwise(\"Saturday\"))\n",
        "\n",
        "top_categories_weekDay = df_withWeekDays.groupBy(\"weekDay\", \"category_id\") \\\n",
        "                                    .agg(count(\"*\").alias(\"purchase_count\")) \\\n",
        "                                    .orderBy(\"weekDay\", desc(\"purchase_count\"))\n",
        "\n",
        "window_spec_weekDay = Window.partitionBy(\"weekDay\").orderBy(desc(\"purchase_count\"))\n",
        "\n",
        "top_n_categories_weekDay = top_categories_weekDay.withColumn(\"rank\",rank().over(window_spec_weekDay))  \\\n",
        "                                                .filter(col(\"rank\") <= 5)\n",
        "# top_categories_weekDay.show()\n",
        "# top_n_categories_weekDay.show()\n",
        "\n",
        "output_path = f\"abfss://{adls_container_name}@{adls_account_name}.dfs.core.windows.net/BatchProcessingResult/top_n_categories_weekDay/\"\n",
        "try:\n",
        "    top_n_categories_weekDay.write.mode(\"overwrite\").parquet(output_path)\n",
        "except Exception as e:\n",
        "    print(e)"
      ]
    },
    {
      "cell_type": "markdown",
      "metadata": {
        "nteract": {
          "transient": {
            "deleting": false
          }
        }
      },
      "source": [
        "### To know which brands need more marketing"
      ]
    },
    {
      "cell_type": "code",
      "execution_count": 13,
      "outputs": [
        {
          "output_type": "display_data",
          "data": {
            "application/vnd.livy.statement-meta+json": {
              "spark_pool": "ECommSparkPool",
              "statement_id": 14,
              "statement_ids": [
                14
              ],
              "state": "finished",
              "livy_statement_state": "available",
              "spark_jobs": null,
              "session_id": "8",
              "normalized_state": "finished",
              "queued_time": "2025-04-03T19:16:06.9679904Z",
              "session_start_time": null,
              "execution_start_time": "2025-04-03T19:16:06.9699879Z",
              "execution_finish_time": "2025-04-03T19:16:17.8932101Z",
              "parent_msg_id": "ead2944d-40b9-4344-87c3-499f3c7a3226"
            },
            "text/plain": "StatementMeta(ECommSparkPool, 8, 14, Finished, Available, Finished)"
          },
          "metadata": {}
        }
      ],
      "metadata": {},
      "source": [
        "from pyspark.sql.functions import col, count,avg\n",
        "\n",
        "df_view_event = df_no_nulls.filter(col(\"event_type\") == \"view\")\n",
        "\n",
        "view_counts = df_view_event.groupBy(\"brand\").agg(count(\"*\").alias(\"view_count\"))\n",
        "purchase_counts = df_purchase_event.groupBy(\"brand\").agg(count(\"*\").alias(\"purchase_count\"))\n",
        "\n",
        "brand_performance = view_counts.join(purchase_counts, on=\"brand\", how=\"left\") \\\n",
        "    .na.fill(0, subset=[\"purchase_count\"]) \\\n",
        "    .withColumn(\"conversion_rate\", col(\"purchase_count\") / col(\"view_count\"))\n",
        "\n",
        "average_conversion_rate = brand_performance.agg(avg(\"conversion_rate\").alias(\"avg_conversion\")).collect()[0][\"avg_conversion\"]\n",
        "\n",
        "brands_need_marketing_conversion = brand_performance.filter(col(\"conversion_rate\") < average_conversion_rate).orderBy(col(\"conversion_rate\"))\n",
        "\n",
        "#brands_need_marketing_conversion.orderBy(col(\"conversion_rate\")).show()"
      ]
    },
    {
      "cell_type": "code",
      "execution_count": 15,
      "outputs": [
        {
          "output_type": "display_data",
          "data": {
            "application/vnd.livy.statement-meta+json": {
              "spark_pool": "ECommSparkPool",
              "statement_id": 16,
              "statement_ids": [
                16
              ],
              "state": "finished",
              "livy_statement_state": "available",
              "spark_jobs": null,
              "session_id": "8",
              "normalized_state": "finished",
              "queued_time": "2025-04-03T19:18:30.5714489Z",
              "session_start_time": null,
              "execution_start_time": "2025-04-03T19:18:30.5733729Z",
              "execution_finish_time": "2025-04-03T19:18:39.5183802Z",
              "parent_msg_id": "8c6fdb2a-d88c-49d3-84cf-8968f36f2cd0"
            },
            "text/plain": "StatementMeta(ECommSparkPool, 8, 16, Finished, Available, Finished)"
          },
          "metadata": {}
        }
      ],
      "metadata": {},
      "source": [
        "output_path = f\"abfss://{adls_container_name}@{adls_account_name}.dfs.core.windows.net/BatchProcessingResult/brands_need_marketing_conversion/\"\n",
        "try:\n",
        "    brands_need_marketing_conversion.write.mode(\"overwrite\").parquet(output_path)\n",
        "except Exception as e:\n",
        "    print(e)"
      ]
    },
    {
      "cell_type": "code",
      "execution_count": null,
      "outputs": [],
      "metadata": {},
      "source": []
    }
  ]
}