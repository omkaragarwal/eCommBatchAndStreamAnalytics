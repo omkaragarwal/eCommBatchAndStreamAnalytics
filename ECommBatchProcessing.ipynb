{
  "nbformat": 4,
  "nbformat_minor": 2,
  "metadata": {
    "language_info": {
      "name": "python"
    },
    "kernelspec": {
      "name": "synapse_pyspark",
      "display_name": "python"
    },
    "description": null,
    "save_output": true,
    "synapse_widget": {
      "version": "0.1",
      "state": {}
    }
  },
  "cells": [
    {
      "cell_type": "code",
      "execution_count": 5,
      "outputs": [
        {
          "output_type": "display_data",
          "data": {
            "application/vnd.livy.statement-meta+json": {
              "spark_pool": "ECommSparkPool",
              "statement_id": 6,
              "statement_ids": [
                6
              ],
              "state": "finished",
              "livy_statement_state": "available",
              "spark_jobs": null,
              "session_id": "7",
              "normalized_state": "finished",
              "queued_time": "2025-03-30T06:42:03.9342921Z",
              "session_start_time": null,
              "execution_start_time": "2025-03-30T06:42:03.9361782Z",
              "execution_finish_time": "2025-03-30T06:42:08.1049875Z",
              "parent_msg_id": "ffb8580a-78dc-41ee-b6bd-fa2a12b7c4fc"
            },
            "text/plain": "StatementMeta(ECommSparkPool, 7, 6, Finished, Available, Finished)"
          },
          "metadata": {}
        },
        {
          "output_type": "stream",
          "name": "stdout",
          "text": [
            "+-------------------+----------+----------+--------------------+--------------------+------------+-------+---------+--------------------+----+----------+\n|         event_time|event_type|product_id|         category_id|       category_code|       brand|  price|  user_id|        user_session|Hour|weekNumber|\n+-------------------+----------+----------+--------------------+--------------------+------------+-------+---------+--------------------+----+----------+\n|2019-11-17 09:58:09|      view|  11200328|2.053013562946749...|appliances.person...|       vitek|  17.94|519234057|e5110e4c-0672-460...|   9|        46|\n|2019-11-17 09:58:09|      view|   6201100|2.053013552293216...|appliances.enviro...|      carver|  64.35|520936692|02d54d04-81e2-4b9...|   9|        46|\n|2019-11-17 09:58:09|      view|   1004767|2.053013555631882...|electronics.smart...|     samsung| 264.79|516001435|1a125c36-397b-419...|   9|        46|\n|2019-11-17 09:58:09|      view|   3700298|2.053013565983425...|appliances.enviro...|     karcher| 615.17|540373470|c02104e0-d447-4c8...|   9|        46|\n|2019-11-17 09:58:09|      cart|   1005171|2.053013555631882...|electronics.smart...|     samsung| 205.56|513461567|20fe20cb-8887-457...|   9|        46|\n|2019-11-17 09:58:09|      view|  14700205|2.053013557133443...|furniture.living_...|          sv| 385.85|512884776|b557eac9-e02f-4ad...|   9|        46|\n|2019-11-17 09:58:09|      view|   2702580|2.053013563911439...|appliances.kitche...|       midea| 895.75|529398589|915c8f22-90b9-432...|   9|        46|\n|2019-11-17 09:58:09|      view|  21400100|2.053013561579406...|  electronics.clocks|       casio| 379.42|571279474|79c2bed0-d0a4-41f...|   9|        46|\n|2019-11-17 09:58:09|      view|   3200515|2.053013555321504...|appliances.kitche...|    scarlett|  42.47|512587929|0394c809-356a-406...|   9|        46|\n|2019-11-17 09:58:09|      view|   1005238|2.053013555631882...|electronics.smart...|        oppo| 308.61|516422336|2b0a7c72-f46f-46d...|   9|        46|\n|2019-11-17 09:58:09|      view|   4803948|2.053013554658803...|electronics.audio...|      xiaomi|   6.67|557667053|f2e101c7-3b16-461...|   9|        46|\n|2019-11-17 09:58:09|      view|   4804056|2.053013554658803...|electronics.audio...|       apple| 169.35|545567014|3441d3ca-4b89-427...|   9|        46|\n|2019-11-17 09:58:09|      view|   1307236|2.053013558920217...|  computers.notebook|      lenovo| 351.05|572516971|5e29228a-c3bb-405...|   9|        46|\n|2019-11-17 09:58:09|      view|   5000475|2.053013566100866...|appliances.sewing...|      janome| 172.44|572511356|6fe265a8-32c8-41b...|   9|        46|\n|2019-11-17 09:58:09|      view|   1005073|2.053013555631882...|electronics.smart...|     samsung|1157.56|513438608|3eace411-6433-40d...|   9|        46|\n|2019-11-17 09:58:09|      view|   1005031|2.053013555631882...|electronics.smart...|      xiaomi| 175.29|570976483|717a37b4-f69d-4ae...|   9|        46|\n|2019-11-17 09:58:09|      view|   1005160|2.053013555631882...|electronics.smart...|      xiaomi| 202.29|572517092|a2d2ecec-f45d-4b8...|   9|        46|\n|2019-11-17 09:58:09|      view|   1201287|2.172371436436455...|  electronics.tablet|       apple| 488.82|528170938|f9ab48e2-6b30-417...|   9|        46|\n|2019-11-17 09:58:09|      cart|   4804056|2.053013554658803...|electronics.audio...|       apple| 169.35|564584970|90acf16e-0324-451...|   9|        46|\n|2019-11-17 09:58:09|      view|  22400058|2.053013554474254...|electronics.audio...|beyerdynamic|  42.19|572245621|bc87e423-3de4-4fd...|   9|        46|\n+-------------------+----------+----------+--------------------+--------------------+------------+-------+---------+--------------------+----+----------+\nonly showing top 20 rows\n\n"
          ]
        }
      ],
      "metadata": {},
      "source": [
        "# Replace with your ADLS Gen2 account name, container name, and file path\n",
        "adls_account_name = \"ecommerceanalytics23\"\n",
        "adls_container_name = \"ecommerce-logs\"\n",
        "file_path = \"enrichedData\"\n",
        "\n",
        "# Construct the full ADLS path\n",
        "adls_path = f\"abfss://{adls_container_name}@{adls_account_name}.dfs.core.windows.net/{file_path}\"\n",
        "\n",
        "try:\n",
        "    # Read the CSV file into a Spark DataFrame\n",
        "    df = spark.read.parquet(adls_path)\n",
        "\n",
        "    # Display the first few rows of the DataFrame\n",
        "    df.show()\n",
        "\n",
        "except Exception as e:\n",
        "    print(f\"Error reading file: {e}\")\n",
        "    print(\"Please double-check your ADLS account name, container name, and file path.\")"
      ]
    },
    {
      "cell_type": "code",
      "execution_count": 6,
      "outputs": [
        {
          "output_type": "display_data",
          "data": {
            "application/vnd.livy.statement-meta+json": {
              "spark_pool": "ECommSparkPool",
              "statement_id": 7,
              "statement_ids": [
                7
              ],
              "state": "finished",
              "livy_statement_state": "available",
              "spark_jobs": null,
              "session_id": "7",
              "normalized_state": "finished",
              "queued_time": "2025-03-30T06:42:04.0076779Z",
              "session_start_time": null,
              "execution_start_time": "2025-03-30T06:42:08.1175641Z",
              "execution_finish_time": "2025-03-30T06:42:08.3891615Z",
              "parent_msg_id": "e3715724-936a-4779-aa66-09d2d4e36140"
            },
            "text/plain": "StatementMeta(ECommSparkPool, 7, 7, Finished, Available, Finished)"
          },
          "metadata": {}
        },
        {
          "output_type": "stream",
          "name": "stdout",
          "text": [
            "root\n |-- event_time: string (nullable = true)\n |-- event_type: string (nullable = true)\n |-- product_id: integer (nullable = true)\n |-- category_id: double (nullable = true)\n |-- category_code: string (nullable = true)\n |-- brand: string (nullable = true)\n |-- price: float (nullable = true)\n |-- user_id: integer (nullable = true)\n |-- user_session: string (nullable = true)\n |-- Hour: integer (nullable = true)\n |-- weekNumber: integer (nullable = true)\n\n"
          ]
        }
      ],
      "metadata": {},
      "source": [
        "df.printSchema()"
      ]
    },
    {
      "cell_type": "code",
      "execution_count": 7,
      "outputs": [
        {
          "output_type": "display_data",
          "data": {
            "application/vnd.livy.statement-meta+json": {
              "spark_pool": "ECommSparkPool",
              "statement_id": 8,
              "statement_ids": [
                8
              ],
              "state": "finished",
              "livy_statement_state": "available",
              "spark_jobs": null,
              "session_id": "7",
              "normalized_state": "finished",
              "queued_time": "2025-03-30T06:42:04.1561281Z",
              "session_start_time": null,
              "execution_start_time": "2025-03-30T06:42:08.4010547Z",
              "execution_finish_time": "2025-03-30T06:42:12.666859Z",
              "parent_msg_id": "0a702130-5fcb-4b45-bc7d-e1e0316f6fab"
            },
            "text/plain": "StatementMeta(ECommSparkPool, 7, 8, Finished, Available, Finished)"
          },
          "metadata": {}
        },
        {
          "output_type": "execute_result",
          "data": {
            "text/plain": "42089570"
          },
          "execution_count": 17,
          "metadata": {}
        }
      ],
      "metadata": {},
      "source": [
        "df.count()"
      ]
    },
    {
      "cell_type": "code",
      "execution_count": 8,
      "outputs": [
        {
          "output_type": "display_data",
          "data": {
            "application/vnd.livy.statement-meta+json": {
              "spark_pool": "ECommSparkPool",
              "statement_id": 9,
              "statement_ids": [
                9
              ],
              "state": "finished",
              "livy_statement_state": "available",
              "spark_jobs": null,
              "session_id": "7",
              "normalized_state": "finished",
              "queued_time": "2025-03-30T06:42:04.2305207Z",
              "session_start_time": null,
              "execution_start_time": "2025-03-30T06:42:12.6800277Z",
              "execution_finish_time": "2025-03-30T06:42:23.7044438Z",
              "parent_msg_id": "5df10278-5c36-45be-a2fa-4021b0ed437e"
            },
            "text/plain": "StatementMeta(ECommSparkPool, 7, 9, Finished, Available, Finished)"
          },
          "metadata": {}
        },
        {
          "output_type": "execute_result",
          "data": {
            "text/plain": "42089564"
          },
          "execution_count": 19,
          "metadata": {}
        }
      ],
      "metadata": {},
      "source": [
        "df_no_nulls = df.na.drop()\n",
        "df_no_nulls.count() # Display the DataFrame after dropping nulls"
      ]
    },
    {
      "cell_type": "code",
      "execution_count": 9,
      "outputs": [
        {
          "output_type": "display_data",
          "data": {
            "application/vnd.livy.statement-meta+json": {
              "spark_pool": "ECommSparkPool",
              "statement_id": 10,
              "statement_ids": [
                10
              ],
              "state": "finished",
              "livy_statement_state": "available",
              "spark_jobs": null,
              "session_id": "7",
              "normalized_state": "finished",
              "queued_time": "2025-03-30T06:42:04.3252177Z",
              "session_start_time": null,
              "execution_start_time": "2025-03-30T06:42:23.7168584Z",
              "execution_finish_time": "2025-03-30T06:42:24.008824Z",
              "parent_msg_id": "0c20bb55-cd48-41e2-b8c9-12b2551d1ef2"
            },
            "text/plain": "StatementMeta(ECommSparkPool, 7, 10, Finished, Available, Finished)"
          },
          "metadata": {}
        }
      ],
      "metadata": {},
      "source": [
        "from pyspark.sql.functions import col, hour, weekofyear\n",
        "\n",
        "df_no_nulls = df_no_nulls.withColumn(\"hour\",hour(col(\"event_time\")))  \\\n",
        "                            .withColumn(\"weekNumber\",weekofyear(col(\"event_time\")))\n",
        ""
      ]
    },
    {
      "cell_type": "markdown",
      "metadata": {
        "nteract": {
          "transient": {
            "deleting": false
          }
        }
      },
      "source": [
        "### Unique visitors per day"
      ]
    },
    {
      "cell_type": "code",
      "execution_count": 10,
      "outputs": [
        {
          "output_type": "display_data",
          "data": {
            "application/vnd.livy.statement-meta+json": {
              "spark_pool": "ECommSparkPool",
              "statement_id": 11,
              "statement_ids": [
                11
              ],
              "state": "finished",
              "livy_statement_state": "available",
              "spark_jobs": null,
              "session_id": "7",
              "normalized_state": "finished",
              "queued_time": "2025-03-30T06:42:04.3778852Z",
              "session_start_time": null,
              "execution_start_time": "2025-03-30T06:42:24.0212061Z",
              "execution_finish_time": "2025-03-30T06:42:39.0930068Z",
              "parent_msg_id": "5eafed9a-cee1-42ec-8725-ab0c28615bab"
            },
            "text/plain": "StatementMeta(ECommSparkPool, 7, 11, Finished, Available, Finished)"
          },
          "metadata": {}
        },
        {
          "output_type": "stream",
          "name": "stdout",
          "text": [
            "+----------+--------------+\n|event_date|unique_visitor|\n+----------+--------------+\n|2019-11-01|        160828|\n|2019-11-02|        167895|\n|2019-11-03|        174567|\n|2019-11-04|        197915|\n|2019-11-05|        183132|\n|2019-11-06|        179224|\n|2019-11-07|        194694|\n|2019-11-08|        205990|\n|2019-11-09|        193528|\n|2019-11-10|        200168|\n|2019-11-11|        210147|\n|2019-11-12|        205921|\n|2019-11-13|        207896|\n|2019-11-14|        236287|\n|2019-11-15|        315108|\n|2019-11-16|        393822|\n|2019-11-17|        388098|\n|2019-11-18|        226772|\n|2019-11-19|        196928|\n|2019-11-20|        194896|\n+----------+--------------+\nonly showing top 20 rows\n\n"
          ]
        }
      ],
      "metadata": {},
      "source": [
        "from pyspark.sql.functions import to_date, col, countDistinct \n",
        "\n",
        "uniqueVisitorPerDay = df_no_nulls.withColumn(\"event_date\",to_date(col(\"event_time\"))) \\\n",
        "                                    .groupBy(\"event_date\") \\\n",
        "                                    .agg(countDistinct(\"user_id\").alias(\"unique_visitor\")) \\\n",
        "                                    .orderBy(\"event_date\")\n",
        "\n",
        "uniqueVisitorPerDay.show()"
      ]
    },
    {
      "cell_type": "code",
      "execution_count": 11,
      "outputs": [
        {
          "output_type": "display_data",
          "data": {
            "application/vnd.livy.statement-meta+json": {
              "spark_pool": "ECommSparkPool",
              "statement_id": 12,
              "statement_ids": [
                12
              ],
              "state": "finished",
              "livy_statement_state": "available",
              "spark_jobs": null,
              "session_id": "7",
              "normalized_state": "finished",
              "queued_time": "2025-03-30T06:42:04.4423007Z",
              "session_start_time": null,
              "execution_start_time": "2025-03-30T06:42:39.1062094Z",
              "execution_finish_time": "2025-03-30T06:42:50.4123612Z",
              "parent_msg_id": "fcb078d0-d138-4bad-b7a4-a0088d9e81fc"
            },
            "text/plain": "StatementMeta(ECommSparkPool, 7, 12, Finished, Available, Finished)"
          },
          "metadata": {}
        },
        {
          "output_type": "stream",
          "name": "stdout",
          "text": [
            "+----------+---------------+\n|event_date|unique_visitors|\n+----------+---------------+\n|2019-11-01|         160828|\n|2019-11-02|         167895|\n|2019-11-03|         174567|\n|2019-11-04|         197915|\n|2019-11-05|         183132|\n|2019-11-06|         179224|\n|2019-11-07|         194694|\n|2019-11-08|         205990|\n|2019-11-09|         193528|\n|2019-11-10|         200168|\n|2019-11-11|         210147|\n|2019-11-12|         205921|\n|2019-11-13|         207896|\n|2019-11-14|         236287|\n|2019-11-15|         315108|\n|2019-11-16|         393822|\n|2019-11-17|         388098|\n|2019-11-18|         226772|\n|2019-11-19|         196928|\n|2019-11-20|         194896|\n+----------+---------------+\nonly showing top 20 rows\n\n"
          ]
        }
      ],
      "metadata": {},
      "source": [
        "df_no_nulls.createOrReplaceTempView(\"CleanData\")\n",
        "spark.sql(\"\"\"\n",
        "    SELECT\n",
        "        CAST(event_time AS DATE) AS event_date,\n",
        "        COUNT(DISTINCT user_id) AS unique_visitors\n",
        "    FROM\n",
        "        CleanData\n",
        "    GROUP BY\n",
        "        CAST(event_time AS DATE)\n",
        "    ORDER BY\n",
        "        event_date\n",
        "\"\"\").show()"
      ]
    },
    {
      "cell_type": "markdown",
      "metadata": {
        "nteract": {
          "transient": {
            "deleting": false
          }
        }
      },
      "source": [
        "### During a certain time, the users add products to their carts but don’t buy them"
      ]
    },
    {
      "cell_type": "code",
      "execution_count": 12,
      "outputs": [
        {
          "output_type": "display_data",
          "data": {
            "application/vnd.livy.statement-meta+json": {
              "spark_pool": "ECommSparkPool",
              "statement_id": 13,
              "statement_ids": [
                13
              ],
              "state": "finished",
              "livy_statement_state": "available",
              "spark_jobs": null,
              "session_id": "7",
              "normalized_state": "finished",
              "queued_time": "2025-03-30T06:42:04.512091Z",
              "session_start_time": null,
              "execution_start_time": "2025-03-30T06:42:50.4265069Z",
              "execution_finish_time": "2025-03-30T06:42:59.4123554Z",
              "parent_msg_id": "a6b4e179-bd7d-4e3a-a541-5ea8aa2c9256"
            },
            "text/plain": "StatementMeta(ECommSparkPool, 7, 13, Finished, Available, Finished)"
          },
          "metadata": {}
        },
        {
          "output_type": "stream",
          "name": "stdout",
          "text": [
            "+----------+\n|event_type|\n+----------+\n|  purchase|\n|      view|\n|      cart|\n+----------+\n\n"
          ]
        }
      ],
      "metadata": {},
      "source": [
        "spark.sql(\"\"\"\n",
        "    SELECT\n",
        "        DISTINCT(event_type)\n",
        "    FROM\n",
        "        CleanData\n",
        "\"\"\").show()"
      ]
    },
    {
      "cell_type": "code",
      "execution_count": 13,
      "outputs": [
        {
          "output_type": "display_data",
          "data": {
            "application/vnd.livy.statement-meta+json": {
              "spark_pool": "ECommSparkPool",
              "statement_id": 14,
              "statement_ids": [
                14
              ],
              "state": "finished",
              "livy_statement_state": "available",
              "spark_jobs": null,
              "session_id": "7",
              "normalized_state": "finished",
              "queued_time": "2025-03-30T06:42:04.6541376Z",
              "session_start_time": null,
              "execution_start_time": "2025-03-30T06:42:59.4245984Z",
              "execution_finish_time": "2025-03-30T06:43:16.6613665Z",
              "parent_msg_id": "43f87b52-70bf-4e8b-bc24-d1f16862f958"
            },
            "text/plain": "StatementMeta(ECommSparkPool, 7, 14, Finished, Available, Finished)"
          },
          "metadata": {}
        },
        {
          "output_type": "stream",
          "name": "stdout",
          "text": [
            "+---------+----------+--------------------+----------+-------------------+\n|  user_id|product_id|         category_id|     brand|         event_time|\n+---------+----------+--------------------+----------+-------------------+\n|272811580|   3601425|2.053013563810775...|      beko|2019-11-08 05:51:33|\n|361978955|   1005212|2.053013555631882...|   samsung|2019-11-28 06:48:43|\n|428799958|   1005135|2.053013555631882...|     apple|2019-11-25 04:59:51|\n|487489100|   1005169|2.053013555631882...|   samsung|2019-11-26 12:52:48|\n|497612854|  10200838|2.053013553224352E18|   llorens|2019-11-13 09:02:19|\n|501799046|   6701163|2.053013554247762...|       msi|2019-11-11 14:52:18|\n|512374782|   4802273|2.053013554658803...|   samsung|2019-11-17 07:40:24|\n|512395943|   6000227|2.053013560807654...|  starline|2019-11-16 15:16:41|\n|512396363|  28401155|2.053013566209917...|     karya|2019-11-15 02:08:39|\n|512413617|   5100854|2.053013553341792...|     apple|2019-11-16 15:37:54|\n|512430622|   1004839|2.053013555631882...|      oppo|2019-11-22 03:09:25|\n|512459330|  28716999|2.053013565228450...|   respect|2019-11-27 17:51:24|\n|512473041|   1005166|2.053013555631882...|    xiaomi|2019-11-17 12:10:35|\n|512488487|   1307443|2.053013558920217...|      asus|2019-11-17 13:45:03|\n|512491863|   3601278|2.053013563810775...|     bosch|2019-11-15 10:58:21|\n|512493251|   8700118|2.053013563097744...|     moser|2019-11-14 18:04:26|\n|512494544|  28719493|2.053013565069067...|     baden|2019-11-16 12:55:44|\n|512499217|   1004250|2.053013555631882...|     apple|2019-11-01 03:05:17|\n|512499270|   1005161|2.053013555631882...|    xiaomi|2019-11-16 04:42:46|\n|512503169|   5200128|2.053013553316626...|pocketbook|2019-11-15 09:37:54|\n+---------+----------+--------------------+----------+-------------------+\nonly showing top 20 rows\n\n"
          ]
        }
      ],
      "metadata": {},
      "source": [
        "df_cart_event = df_no_nulls.filter(col(\"event_type\") == \"cart\")\n",
        "df_purchase_event = df_no_nulls.filter(col(\"event_type\") == \"purchase\")\n",
        "\n",
        "abandoned_carts = df_cart_event.alias(\"cart\").join(df_purchase_event.alias(\"purchase\"),\n",
        "                    (col(\"cart.user_id\") == col(\"purchase.user_id\")) &\n",
        "                    (col(\"cart.product_id\") == col(\"purchase.product_id\")) &\n",
        "                    (col(\"cart.user_session\") == col(\"purchase.user_session\")),\"left_anti\")  \\\n",
        "                    .select(\n",
        "                        col(\"cart.user_id\").alias(\"user_id\"),\n",
        "                        col(\"cart.product_id\").alias(\"product_id\"),\n",
        "                        col(\"cart.category_id\").alias(\"category_id\"),\n",
        "                        col(\"cart.brand\").alias(\"brand\"),\n",
        "                        col(\"cart.event_time\").alias(\"event_time\")\n",
        "                    ).distinct()\n",
        "\n",
        "abandoned_carts.show()"
      ]
    },
    {
      "cell_type": "markdown",
      "metadata": {
        "nteract": {
          "transient": {
            "deleting": false
          }
        }
      },
      "source": [
        "### Top categories per hour or weekday (i.e. to promote discounts based on trends)"
      ]
    },
    {
      "cell_type": "code",
      "execution_count": 14,
      "outputs": [
        {
          "output_type": "display_data",
          "data": {
            "application/vnd.livy.statement-meta+json": {
              "spark_pool": "ECommSparkPool",
              "statement_id": 15,
              "statement_ids": [
                15
              ],
              "state": "finished",
              "livy_statement_state": "available",
              "spark_jobs": null,
              "session_id": "7",
              "normalized_state": "finished",
              "queued_time": "2025-03-30T06:42:04.655107Z",
              "session_start_time": null,
              "execution_start_time": "2025-03-30T06:43:16.6734718Z",
              "execution_finish_time": "2025-03-30T06:43:22.2304361Z",
              "parent_msg_id": "9fe21cb8-abf7-46d7-a8cb-aba12b2851cd"
            },
            "text/plain": "StatementMeta(ECommSparkPool, 7, 15, Finished, Available, Finished)"
          },
          "metadata": {}
        },
        {
          "output_type": "stream",
          "name": "stdout",
          "text": [
            "+----+--------------------+--------------+\n|hour|         category_id|purchase_count|\n+----+--------------------+--------------+\n|   0|2.053013555631882...|          1200|\n|   0|2.053013554658803...|           167|\n|   0|2.053013553341792...|            71|\n|   0|2.053013554415534...|            70|\n|   0|2.053013558920217...|            62|\n|   0|2.053013563810775...|            34|\n|   0|2.053013565983425...|            26|\n|   0|2.053013561579406...|            24|\n|   0|2.172371436436455...|            20|\n|   0|2.053013566176363...|            14|\n|   0|2.053013555573162...|            14|\n|   0|2.053013552293216...|            14|\n|   0|2.053013565228450...|            13|\n|   0|2.053013565069067...|            11|\n|   0|2.053013565639492...|            11|\n|   0|2.053013553970938...|            10|\n|   0|2.053013563911439...|            10|\n|   0|2.053013553945772...|            10|\n|   0|2.053013560899928...|             9|\n|   0|2.053013555262784E18|             8|\n+----+--------------------+--------------+\nonly showing top 20 rows\n\n"
          ]
        }
      ],
      "metadata": {},
      "source": [
        "from pyspark.sql.functions import col, hour, count, desc\n",
        "\n",
        "top_categories_hourly = df_purchase_event.groupBy(\"hour\", \"category_id\") \\\n",
        "                                    .agg(count(\"*\").alias(\"purchase_count\")) \\\n",
        "                                    .orderBy(\"hour\", desc(\"purchase_count\"))\n",
        "top_categories_hourly.show()"
      ]
    },
    {
      "cell_type": "code",
      "execution_count": 15,
      "outputs": [
        {
          "output_type": "display_data",
          "data": {
            "application/vnd.livy.statement-meta+json": {
              "spark_pool": "ECommSparkPool",
              "statement_id": 16,
              "statement_ids": [
                16
              ],
              "state": "finished",
              "livy_statement_state": "available",
              "spark_jobs": null,
              "session_id": "7",
              "normalized_state": "finished",
              "queued_time": "2025-03-30T06:42:04.7116821Z",
              "session_start_time": null,
              "execution_start_time": "2025-03-30T06:43:22.2442314Z",
              "execution_finish_time": "2025-03-30T06:43:27.9249036Z",
              "parent_msg_id": "fe1d3960-6369-4755-b282-92852f984478"
            },
            "text/plain": "StatementMeta(ECommSparkPool, 7, 16, Finished, Available, Finished)"
          },
          "metadata": {}
        },
        {
          "output_type": "stream",
          "name": "stdout",
          "text": [
            "+----+--------------------+--------------+----+\n|hour|         category_id|purchase_count|rank|\n+----+--------------------+--------------+----+\n|   0|2.053013555631882...|          1200|   1|\n|   0|2.053013554658803...|           167|   2|\n|   0|2.053013553341792...|            71|   3|\n|   0|2.053013554415534...|            70|   4|\n|   0|2.053013558920217...|            62|   5|\n|   1|2.053013555631882...|          1742|   1|\n|   1|2.053013554658803...|           199|   2|\n|   1|2.053013554415534...|           118|   3|\n|   1|2.053013563810775...|            71|   4|\n|   1|2.053013553341792...|            67|   5|\n|   2|2.053013555631882...|          4399|   1|\n|   2|2.053013554658803...|           462|   2|\n|   2|2.053013554415534...|           273|   3|\n|   2|2.053013563810775...|           194|   4|\n|   2|2.053013558920217...|           185|   5|\n|   3|2.053013555631882...|         11015|   1|\n|   3|2.053013554658803...|           966|   2|\n|   3|2.053013554415534...|           702|   3|\n|   3|2.053013563810775...|           530|   4|\n|   3|2.053013558920217...|           448|   5|\n+----+--------------------+--------------+----+\nonly showing top 20 rows\n\n"
          ]
        }
      ],
      "metadata": {},
      "source": [
        "from pyspark.sql import Window\n",
        "from pyspark.sql.functions import rank\n",
        "\n",
        "window_spec = Window.partitionBy(\"hour\").orderBy(desc(\"purchase_count\"))\n",
        "\n",
        "top_n_categories_hourly = top_categories_hourly.withColumn(\"rank\", rank().over(window_spec)) \\\n",
        "    .filter(col(\"rank\") <= 5)  # Change 5 to your desired number of top categories\n",
        "top_n_categories_hourly.show()"
      ]
    },
    {
      "cell_type": "code",
      "execution_count": 21,
      "outputs": [
        {
          "output_type": "display_data",
          "data": {
            "application/vnd.livy.statement-meta+json": {
              "spark_pool": "ECommSparkPool",
              "statement_id": 22,
              "statement_ids": [
                22
              ],
              "state": "finished",
              "livy_statement_state": "available",
              "spark_jobs": null,
              "session_id": "7",
              "normalized_state": "finished",
              "queued_time": "2025-03-30T07:03:09.258645Z",
              "session_start_time": null,
              "execution_start_time": "2025-03-30T07:03:09.260755Z",
              "execution_finish_time": "2025-03-30T07:03:20.2617394Z",
              "parent_msg_id": "b23a3dfd-0a4e-4253-add2-df323e967f52"
            },
            "text/plain": "StatementMeta(ECommSparkPool, 7, 22, Finished, Available, Finished)"
          },
          "metadata": {}
        },
        {
          "output_type": "stream",
          "name": "stdout",
          "text": [
            "+-------+--------------------+--------------+\n|weekDay|         category_id|purchase_count|\n+-------+--------------------+--------------+\n| Friday|2.053013555631882...|         47156|\n| Friday|2.053013554658803...|          4668|\n| Friday|2.053013554415534...|          3162|\n| Friday|2.053013563810775...|          2017|\n| Friday|2.053013558920217...|          1979|\n| Friday|2.053013553341792...|          1837|\n| Friday|2.053013565983425...|          1648|\n| Friday|2.053013563911439...|           733|\n| Friday|2.172371436436455...|           673|\n| Friday|2.053013561579406...|           481|\n| Friday|2.053013555573162...|           476|\n| Friday|2.053013554776244...|           476|\n| Friday|2.053013566176363...|           444|\n| Friday|2.053013555262784E18|           423|\n| Friday|2.053013552293216...|           417|\n| Friday|2.053013552326770...|           381|\n| Friday|2.053013564003713...|           381|\n| Friday|2.053013554834964...|           356|\n| Friday|2.053013560807654...|           285|\n| Friday|2.053013565228450...|           279|\n+-------+--------------------+--------------+\nonly showing top 20 rows\n\n+--------+--------------------+--------------+----+\n| weekDay|         category_id|purchase_count|rank|\n+--------+--------------------+--------------+----+\n|  Friday|2.053013555631882...|         47156|   1|\n|  Friday|2.053013554658803...|          4668|   2|\n|  Friday|2.053013554415534...|          3162|   3|\n|  Friday|2.053013563810775...|          2017|   4|\n|  Friday|2.053013558920217...|          1979|   5|\n|  Monday|2.053013555631882...|         45325|   1|\n|  Monday|2.053013554658803...|          4790|   2|\n|  Monday|2.053013554415534...|          2895|   3|\n|  Monday|2.053013558920217...|          1868|   4|\n|  Monday|2.053013563810775...|          1866|   5|\n|Saturday|2.053013555631882...|         69068|   1|\n|Saturday|2.053013554658803...|          7423|   2|\n|Saturday|2.053013554415534...|          5999|   3|\n|Saturday|2.053013563810775...|          3799|   4|\n|Saturday|2.053013565983425...|          3521|   5|\n|  Sunday|2.053013555631882...|         93398|   1|\n|  Sunday|2.053013554658803...|         11426|   2|\n|  Sunday|2.053013554415534...|          9682|   3|\n|  Sunday|2.053013565983425...|          7284|   4|\n|  Sunday|2.053013563810775...|          6673|   5|\n+--------+--------------------+--------------+----+\nonly showing top 20 rows\n\n"
          ]
        }
      ],
      "metadata": {},
      "source": [
        "from pyspark.sql.functions import col, dayofweek, count, desc, when\n",
        "\n",
        "df_withWeekDays = df_purchase_event.withColumn(\"weekDay\", when(dayofweek(col(\"event_time\")) == 1, \"Sunday\")\n",
        "                                                        .when(dayofweek(col(\"event_time\")) == 2, \"Monday\")\n",
        "                                                        .when(dayofweek(col(\"event_time\")) == 3,\"Tuesday\")\n",
        "                                                        .when(dayofweek(col(\"event_time\")) == 4,\"Wednesday\")\n",
        "                                                        .when(dayofweek(col(\"event_time\")) == 5,\"Thursday\")\n",
        "                                                        .when(dayofweek(col(\"event_time\")) == 6, \"Friday\")\n",
        "                                                        .otherwise(\"Saturday\"))\n",
        "\n",
        "top_categories_weekDay = df_withWeekDays.groupBy(\"weekDay\", \"category_id\") \\\n",
        "                                    .agg(count(\"*\").alias(\"purchase_count\")) \\\n",
        "                                    .orderBy(\"weekDay\", desc(\"purchase_count\"))\n",
        "\n",
        "window_spec_weekDay = Window.partitionBy(\"weekDay\").orderBy(desc(\"purchase_count\"))\n",
        "\n",
        "top_n_categories_weekDay = top_categories_weekDay.withColumn(\"rank\",rank().over(window_spec_weekDay))  \\\n",
        "                                                .filter(col(\"rank\") <= 5)\n",
        "top_categories_weekDay.show()\n",
        "top_n_categories_weekDay.show()"
      ]
    },
    {
      "cell_type": "markdown",
      "metadata": {
        "nteract": {
          "transient": {
            "deleting": false
          }
        }
      },
      "source": [
        "### To know which brands need more marketing"
      ]
    },
    {
      "cell_type": "code",
      "execution_count": 29,
      "outputs": [
        {
          "output_type": "display_data",
          "data": {
            "application/vnd.livy.statement-meta+json": {
              "spark_pool": "ECommSparkPool",
              "statement_id": 30,
              "statement_ids": [
                30
              ],
              "state": "finished",
              "livy_statement_state": "available",
              "spark_jobs": null,
              "session_id": "7",
              "normalized_state": "finished",
              "queued_time": "2025-03-30T07:24:50.5426994Z",
              "session_start_time": null,
              "execution_start_time": "2025-03-30T07:24:50.5446675Z",
              "execution_finish_time": "2025-03-30T07:25:07.8728455Z",
              "parent_msg_id": "a80189c7-54dd-48e2-a2ff-88f0625b690d"
            },
            "text/plain": "StatementMeta(ECommSparkPool, 7, 30, Finished, Available, Finished)"
          },
          "metadata": {}
        },
        {
          "output_type": "stream",
          "name": "stdout",
          "text": [
            "+----------+----------+--------------+---------------+\n|     brand|view_count|purchase_count|conversion_rate|\n+----------+----------+--------------+---------------+\n|   bompani|       205|             0|            0.0|\n|dickietoys|        45|             0|            0.0|\n|      tmnt|       100|             0|            0.0|\n|potatohead|        14|             0|            0.0|\n|     sigma|       395|             0|            0.0|\n|    circle|       151|             0|            0.0|\n|    mackie|        53|             0|            0.0|\n|  skechers|        25|             0|            0.0|\n|  funville|         2|             0|            0.0|\n|  hercules|        49|             0|            0.0|\n|      cata|       607|             0|            0.0|\n|    kacper|       188|             0|            0.0|\n|    norfin|       111|             0|            0.0|\n|    makers|       681|             0|            0.0|\n|    rapala|       277|             0|            0.0|\n|    sencor|        51|             0|            0.0|\n|   keenway|       140|             0|            0.0|\n|     kelet|       181|             0|            0.0|\n|   elitech|       198|             0|            0.0|\n|    e-twow|       686|             0|            0.0|\n+----------+----------+--------------+---------------+\nonly showing top 20 rows\n\n"
          ]
        }
      ],
      "metadata": {},
      "source": [
        "from pyspark.sql.functions import col, count,avg\n",
        "\n",
        "df_view_event = df_no_nulls.filter(col(\"event_type\") == \"view\")\n",
        "\n",
        "view_counts = df_view_event.groupBy(\"brand\").agg(count(\"*\").alias(\"view_count\"))\n",
        "purchase_counts = df_purchase_event.groupBy(\"brand\").agg(count(\"*\").alias(\"purchase_count\"))\n",
        "\n",
        "brand_performance = view_counts.join(purchase_counts, on=\"brand\", how=\"left\") \\\n",
        "    .na.fill(0, subset=[\"purchase_count\"]) \\\n",
        "    .withColumn(\"conversion_rate\", col(\"purchase_count\") / col(\"view_count\"))\n",
        "\n",
        "average_conversion_rate = brand_performance.agg(avg(\"conversion_rate\").alias(\"avg_conversion\")).collect()[0][\"avg_conversion\"]\n",
        "\n",
        "brands_need_marketing_conversion = brand_performance.filter(col(\"conversion_rate\") < average_conversion_rate)\n",
        "\n",
        "brands_need_marketing_conversion.orderBy(col(\"conversion_rate\")).show()"
      ]
    },
    {
      "cell_type": "code",
      "execution_count": null,
      "outputs": [],
      "metadata": {},
      "source": []
    }
  ]
}